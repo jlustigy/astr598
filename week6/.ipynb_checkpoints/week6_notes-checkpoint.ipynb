{
 "cells": [
  {
   "cell_type": "markdown",
   "metadata": {},
   "source": [
    "## Stable Sort  \n",
    ">Stable sorting algorithms maintain the relative order of records with equal keys (i.e. values). That is, a sorting algorithm is stable if whenever there are two records R and S with the same key and with R appearing before S in the original list, R will appear before S in the sorted list."
   ]
  },
  {
   "cell_type": "markdown",
   "metadata": {},
   "source": [
    "# MergeSort\n",
    "## Binary Recursion  \n",
    "\n",
    "O(NlogN)"
   ]
  },
  {
   "cell_type": "code",
   "execution_count": 3,
   "metadata": {
    "collapsed": false
   },
   "outputs": [],
   "source": [
    "import numpy as np\n",
    "\n",
    "class MergeSort(object):\n",
    "    def __init__(self, ):\n",
    "    \n",
    "'''\n",
    "def mergesort(a):\n",
    "    aux = np.zeros(len(a))\n",
    "    sort(a,0,len(a))\n",
    "'''\n",
    "def sort(a, low, high):\n",
    "    \n",
    "    # Base case: nothing to do\n",
    "    if (high <= low): return\n",
    "    \n",
    "    # Find the midpoint\n",
    "    mid = low + int(np.floor(((high - low) / 2)))   \n",
    "    \n",
    "    # Divide and Conquer using Recursion!\n",
    "    sort(a, low, mid)      # Sort left half  \n",
    "    sort(a, mid+1, high)   # Sort right half\n",
    "    \n",
    "    # Merge left and right halves\n",
    "    merge(a, low, mid, high)\n",
    "\n",
    "def merge(a, low, mig, high):\n",
    "    \n",
    "    i = int(low)\n",
    "    j = int(mid + 1)\n",
    "    \n",
    "    # Make a copy\n",
    "    aux = [a[k] for k in range(low, high+1)]\n",
    "    \n",
    "    # Merge two arrays\n",
    "    k = int(low)\n",
    "    while (k <= high):\n",
    "        while ( (i <= mid) & (j <= high) ):\n",
    "            if ( aux[j] < aux[i] ):\n",
    "                a[k] = aux[j]\n",
    "                j += 1\n",
    "                k += 1\n",
    "            else:\n",
    "                a[k] = aux[i]\n",
    "                i += 1\n",
    "                k += 1\n",
    "        # Now either i > mid or j > high\n",
    "        # So only one of below loops will run\n",
    "        while (i <= mid):\n",
    "            a[k] = aux[i]\n",
    "            i += 1\n",
    "            k += 1\n",
    "        while (j <= high):\n",
    "            a[k] = aux[j]\n",
    "            j += 1\n",
    "            k += 1"
   ]
  },
  {
   "cell_type": "code",
   "execution_count": null,
   "metadata": {
    "collapsed": true
   },
   "outputs": [],
   "source": []
  }
 ],
 "metadata": {
  "kernelspec": {
   "display_name": "Python 2",
   "language": "python",
   "name": "python2"
  },
  "language_info": {
   "codemirror_mode": {
    "name": "ipython",
    "version": 2
   },
   "file_extension": ".py",
   "mimetype": "text/x-python",
   "name": "python",
   "nbconvert_exporter": "python",
   "pygments_lexer": "ipython2",
   "version": "2.7.11"
  }
 },
 "nbformat": 4,
 "nbformat_minor": 0
}
