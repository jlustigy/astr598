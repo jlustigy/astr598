{
 "cells": [
  {
   "cell_type": "markdown",
   "metadata": {},
   "source": [
    "## Stable Sort  \n",
    ">Stable sorting algorithms maintain the relative order of records with equal keys (i.e. values). That is, a sorting algorithm is stable if whenever there are two records R and S with the same key and with R appearing before S in the original list, R will appear before S in the sorted list."
   ]
  },
  {
   "cell_type": "markdown",
   "metadata": {},
   "source": [
    "# MergeSort\n",
    "## Binary Recursion  \n",
    "\n",
    "O(NlogN)"
   ]
  },
  {
   "cell_type": "code",
   "execution_count": 9,
   "metadata": {
    "collapsed": false
   },
   "outputs": [],
   "source": [
    "import numpy as np   \n",
    "\n",
    "def mergesort(a):\n",
    "    aux = np.copy(a)\n",
    "    sort(a,0,len(a)-1, aux)\n",
    "    return a\n",
    "\n",
    "\n",
    "def sort(a, low, high, aux):\n",
    "    \n",
    "    # Base case: nothing to do\n",
    "    if (high <= low): \n",
    "        return\n",
    "    \n",
    "    # Find the midpoint\n",
    "    mid = low + int(np.floor(((high - low) / 2)))   \n",
    "    \n",
    "    # Divide and Conquer using Recursion!\n",
    "    sort(a, low, mid, aux)      # Sort left half  \n",
    "    sort(a, mid+1, high, aux)   # Sort right half\n",
    "    \n",
    "    # Merge left and right halves\n",
    "    merge(a, low, mid, high, aux)\n",
    "\n",
    "def merge(a, low, mid, high, aux):\n",
    "    \n",
    "    i = int(low)\n",
    "    j = int(mid + 1)\n",
    "    \n",
    "    # Make a copy\n",
    "    aux[low:high+1] = a[low:high+1]\n",
    "    \n",
    "    # Merge two arrays\n",
    "    k = int(low)\n",
    "    while (k <= high):\n",
    "        while ( (i <= mid) & (j <= high) ):\n",
    "            if ( aux[j] < aux[i] ):\n",
    "                a[k] = aux[j]\n",
    "                j += 1\n",
    "                k += 1\n",
    "            else:\n",
    "                a[k] = aux[i]\n",
    "                i += 1\n",
    "                k += 1\n",
    "        # Now either i > mid or j > high\n",
    "        # So only one of below loops will run\n",
    "        while (i <= mid):\n",
    "            a[k] = aux[i]\n",
    "            i += 1\n",
    "            k += 1\n",
    "        while (j <= high):\n",
    "            a[k] = aux[j]\n",
    "            j += 1\n",
    "            k += 1"
   ]
  },
  {
   "cell_type": "code",
   "execution_count": 18,
   "metadata": {
    "collapsed": false
   },
   "outputs": [
    {
     "name": "stdout",
     "output_type": "stream",
     "text": [
      "0.00111603736877 seconds\n"
     ]
    }
   ],
   "source": [
    "import timeit\n",
    "\n",
    "N = [1e2, 1e4, 1e6, 1e8]\n",
    "\n",
    "a = np.random.randint(low=0,high=int(N[0]),size=int(N[0]))\n",
    "\n",
    "t = timeit.Timer(lambda: mergesort(a))\n",
    "\n",
    "print t.timeit(number=1), 'seconds'"
   ]
  },
  {
   "cell_type": "code",
   "execution_count": 27,
   "metadata": {
    "collapsed": true
   },
   "outputs": [],
   "source": [
    "def time_mergesort(N):\n",
    "    # Initialize array of random numbers between 0 and N with length N \n",
    "    a = np.random.randint(low=0,high=int(N),size=int(N))\n",
    "\n",
    "    # Define timed mergesort object, t\n",
    "    t = timeit.Timer(lambda: mergesort(a))\n",
    "\n",
    "    # Run t once and return time\n",
    "    return t.timeit(number=1)"
   ]
  },
  {
   "cell_type": "code",
   "execution_count": 45,
   "metadata": {
    "collapsed": false
   },
   "outputs": [],
   "source": [
    "## ~~ WARNING ~~ THIS CELL HAS A RUNTIME OF 1.5 HOURS! ##\n",
    "\n",
    "# Define array to hold times\n",
    "times = np.zeros([len(N), 3])\n",
    "\n",
    "# For each array length\n",
    "for i in range(len(N)):\n",
    "    # For 3 trials\n",
    "    for j in range(3):\n",
    "        # Store mergesort runtime\n",
    "        times[i,j] = time_mergesort(N[i])"
   ]
  },
  {
   "cell_type": "code",
   "execution_count": 57,
   "metadata": {
    "collapsed": true
   },
   "outputs": [],
   "source": [
    "import numpy as np\n",
    "import matplotlib as mpl\n",
    "import matplotlib.pyplot as plt\n",
    "from matplotlib import gridspec\n",
    "from matplotlib import rc\n",
    "rc('font', **{'family': 'serif', 'serif': ['Computer Modern']})\n",
    "mpl.rcParams['font.size'] = 20.0\n",
    "from astroML.plotting import setup_text_plots\n",
    "setup_text_plots(fontsize=30, usetex=True)"
   ]
  },
  {
   "cell_type": "code",
   "execution_count": 58,
   "metadata": {
    "collapsed": false
   },
   "outputs": [
    {
     "name": "stderr",
     "output_type": "stream",
     "text": [
      "/astro/users/jlustigy/.conda/envs/my_root/lib/python2.7/site-packages/matplotlib/figure.py:397: UserWarning: matplotlib is currently using a non-GUI backend, so cannot show the figure\n",
      "  \"matplotlib is currently using a non-GUI backend, \"\n"
     ]
    },
    {
     "data": {
      "image/png": "[encoded data removed]",
      "text/plain": [
       "<matplotlib.figure.Figure at 0x7f59614e8690>"
      ]
     },
     "metadata": {},
     "output_type": "display_data"
    }
   ],
   "source": [
    "# Calculate average time for the three trials\n",
    "avgt = np.mean(times, axis=1)\n",
    "\n",
    "# Plot results\n",
    "fig = plt.figure(figsize=(15,10))\n",
    "gs = gridspec.GridSpec(1, 1) \n",
    "ax0 = plt.subplot(gs[0])\n",
    "ax0.plot(N * np.log10(N), avgt, 'o')\n",
    "ax0.set_xlabel('NlogN')\n",
    "ax0.set_ylabel('Time (s)')\n",
    "ax0.set_title('MergeSort')\n",
    "ax0.loglog()\n",
    "ax0.set_ylim([3e-4,3e4])\n",
    "ax0.set_xlim([1e2,3e9])\n",
    "fig.savefig('mergesort.pdf')\n",
    "fig.show()"
   ]
  },
  {
   "cell_type": "code",
   "execution_count": null,
   "metadata": {
    "collapsed": true
   },
   "outputs": [],
   "source": []
  },
  {
   "cell_type": "code",
   "execution_count": null,
   "metadata": {
    "collapsed": true
   },
   "outputs": [],
   "source": []
  }
 ],
 "metadata": {
  "kernelspec": {
   "display_name": "Python 2",
   "language": "python",
   "name": "python2"
  },
  "language_info": {
   "codemirror_mode": {
    "name": "ipython",
    "version": 2
   },
   "file_extension": ".py",
   "mimetype": "text/x-python",
   "name": "python",
   "nbconvert_exporter": "python",
   "pygments_lexer": "ipython2",
   "version": "2.7.11"
  }
 },
 "nbformat": 4,
 "nbformat_minor": 0
}
