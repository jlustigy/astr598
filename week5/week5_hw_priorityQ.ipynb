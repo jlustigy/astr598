{
 "cells": [
  {
   "cell_type": "code",
   "execution_count": 243,
   "metadata": {
    "collapsed": true
   },
   "outputs": [],
   "source": [
    "import numpy as np\n",
    "\n",
    "class PriorityQueue(object):\n",
    "    \n",
    "    def __init__(self,N=0,MAX=100):\n",
    "        self.a=[0] * (MAX+1)\n",
    "        self.N=N\n",
    "        self.MAX=MAX\n",
    "        self.a[0] = None\n",
    "        \n",
    "    def minimum(self):\n",
    "        if self.N > 0:\n",
    "            return self.a[1] # Zero is always None\n",
    "        else:\n",
    "            print \"Error in Min\"\n",
    "            return None\n",
    "    \n",
    "    def size(self):\n",
    "        return self.N\n",
    "    \n",
    "    def isEmpty(self):\n",
    "        if self.N == 0:\n",
    "            return True\n",
    "        else:\n",
    "            return False\n",
    "    \n",
    "    def isFull(self):\n",
    "        if self.size() == self.MAX:\n",
    "            return True\n",
    "        else:\n",
    "            return False\n",
    "    \n",
    "    def insert(self, i):\n",
    "        \n",
    "        # Check if queue is full\n",
    "        if self.isFull():\n",
    "            print 'Error in insert'\n",
    "            return None\n",
    "        \n",
    "        # Increase N\n",
    "        self.N += 1\n",
    "        \n",
    "        # insert at empty space 1 beyond old N\n",
    "        self.a[self.N] = i\n",
    "        \n",
    "        # Loop while (parent > child) and (not at root) \n",
    "        k = self.N\n",
    "        while (k > 1) & (self.a[int(np.floor(k/2))] > self.a[k]):\n",
    "            # Exchange using temporary variable\n",
    "            tmp = self.a[int(np.floor(k/2))]\n",
    "            self.a[int(np.floor(k/2))] = self.a[k]\n",
    "            self.a[k] = tmp\n",
    "            \n",
    "            # Divide k by 2 to move up one level \n",
    "            k = int(np.floor(k/2))\n",
    "    \n",
    "    def delMin(self):\n",
    "        \n",
    "        # Error condition\n",
    "        if self.isEmpty():\n",
    "            print \"Error in delMin()\"\n",
    "            return\n",
    "        \n",
    "        # Save minimum\n",
    "        tmin = self.a[1]\n",
    "        \n",
    "        # Set smallest child to top \n",
    "        self.a[1] = self.a[self.N]\n",
    "        \n",
    "        # Set child to zero\n",
    "        self.a[self.N] = 0\n",
    "        \n",
    "        # Decrement N\n",
    "        self.N -= 1 #self.N\n",
    "        \n",
    "        # Loop\n",
    "        k = 1\n",
    "        while (2*k <= self.N):\n",
    "            \n",
    "            if ((2*k == self.N) or (self.a[2*k] < self.a[2*k+1])):\n",
    "                j = 2*k     # If the left child is the samllest child\n",
    "            else:\n",
    "                j = 2*k+1   # If the right child is the smallest child\n",
    "            \n",
    "            # If parent is less than (only child or lesser child)\n",
    "            if (self.a[k] > self.a[j]):\n",
    "                temp = self.a[k]\n",
    "                self.a[k] = self.a[j]\n",
    "                self.a[j] = temp\n",
    "                k = j\n",
    "            else:\n",
    "                break\n",
    "        \n",
    "        return tmin"
   ]
  },
  {
   "cell_type": "code",
   "execution_count": 234,
   "metadata": {
    "collapsed": false
   },
   "outputs": [],
   "source": [
    "PQ = PriorityQueue()"
   ]
  },
  {
   "cell_type": "code",
   "execution_count": 235,
   "metadata": {
    "collapsed": false
   },
   "outputs": [
    {
     "name": "stdout",
     "output_type": "stream",
     "text": [
      "Is empty? True\n",
      "Is full? False\n"
     ]
    }
   ],
   "source": [
    "print 'Is empty?', PQ.isEmpty()\n",
    "print 'Is full?', PQ.isFull()"
   ]
  },
  {
   "cell_type": "code",
   "execution_count": 240,
   "metadata": {
    "collapsed": false
   },
   "outputs": [],
   "source": [
    "for i in range(20):\n",
    "    PQ.insert(np.random.randint(100))"
   ]
  },
  {
   "cell_type": "code",
   "execution_count": 241,
   "metadata": {
    "collapsed": false
   },
   "outputs": [
    {
     "name": "stdout",
     "output_type": "stream",
     "text": [
      "Is empty? False\n",
      "Is full? False\n"
     ]
    }
   ],
   "source": [
    "print 'Is empty?', PQ.isEmpty()\n",
    "print 'Is full?', PQ.isFull()"
   ]
  },
  {
   "cell_type": "code",
   "execution_count": 242,
   "metadata": {
    "collapsed": false
   },
   "outputs": [
    {
     "name": "stdout",
     "output_type": "stream",
     "text": [
      "3\n",
      "7\n",
      "20\n",
      "20\n",
      "21\n",
      "27\n",
      "41\n",
      "45\n",
      "47\n",
      "51\n",
      "53\n",
      "55\n",
      "57\n",
      "58\n",
      "59\n",
      "69\n",
      "87\n",
      "89\n",
      "90\n",
      "99\n"
     ]
    }
   ],
   "source": [
    "for i in range(20):\n",
    "    print PQ.delMin()"
   ]
  },
  {
   "cell_type": "code",
   "execution_count": null,
   "metadata": {
    "collapsed": true
   },
   "outputs": [],
   "source": []
  }
 ],
 "metadata": {
  "kernelspec": {
   "display_name": "Python 2",
   "language": "python",
   "name": "python2"
  },
  "language_info": {
   "codemirror_mode": {
    "name": "ipython",
    "version": 2
   },
   "file_extension": ".py",
   "mimetype": "text/x-python",
   "name": "python",
   "nbconvert_exporter": "python",
   "pygments_lexer": "ipython2",
   "version": "2.7.11"
  }
 },
 "nbformat": 4,
 "nbformat_minor": 0
}
