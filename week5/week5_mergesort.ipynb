{
 "cells": [
  {
   "cell_type": "markdown",
   "metadata": {},
   "source": [
    "# MergeSort  \n",
    "* Divide and Conquer \n",
    "* Recursion\n",
    "* Stable sort"
   ]
  },
  {
   "cell_type": "code",
   "execution_count": 24,
   "metadata": {
    "collapsed": true
   },
   "outputs": [],
   "source": [
    "import numpy as np\n",
    "\n",
    "def merge(a,b):\n",
    "    \n",
    "    c = np.zeros(len(a)+len(b))\n",
    "    \n",
    "    k = 0\n",
    "    i = 0\n",
    "    j = 0\n",
    "    \n",
    "    while (k < len(c)):\n",
    "        while (i < len(a)) and (j <  len(b)):\n",
    "            if (a[i] < b[j]):\n",
    "                c[k] = a[i]\n",
    "                i += 1\n",
    "                k += 1\n",
    "            else:\n",
    "                c[k] = b[j]\n",
    "                j += 1\n",
    "                k += 1\n",
    "    \n",
    "    # Only one of the two below loops will run\n",
    "    while (i < len(a)):\n",
    "        c[k] = a[i]\n",
    "        i += 1\n",
    "        k += 1\n",
    "    while (j < len(b)):\n",
    "        c[k] = b[j]\n",
    "        j += 1\n",
    "        k += 1\n",
    "    \n",
    "    return c"
   ]
  },
  {
   "cell_type": "code",
   "execution_count": 25,
   "metadata": {
    "collapsed": true
   },
   "outputs": [],
   "source": [
    "a = np.random.uniform(size=10)\n",
    "b = np.random.uniform(size=10)"
   ]
  },
  {
   "cell_type": "code",
   "execution_count": null,
   "metadata": {
    "collapsed": false
   },
   "outputs": [],
   "source": [
    "print merge(a,b)"
   ]
  },
  {
   "cell_type": "code",
   "execution_count": null,
   "metadata": {
    "collapsed": true
   },
   "outputs": [],
   "source": []
  },
  {
   "cell_type": "code",
   "execution_count": null,
   "metadata": {
    "collapsed": true
   },
   "outputs": [],
   "source": []
  }
 ],
 "metadata": {
  "kernelspec": {
   "display_name": "Python 2",
   "language": "python",
   "name": "python2"
  },
  "language_info": {
   "codemirror_mode": {
    "name": "ipython",
    "version": 2
   },
   "file_extension": ".py",
   "mimetype": "text/x-python",
   "name": "python",
   "nbconvert_exporter": "python",
   "pygments_lexer": "ipython2",
   "version": "2.7.11"
  }
 },
 "nbformat": 4,
 "nbformat_minor": 0
}
