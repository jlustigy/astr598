{
 "cells": [
  {
   "cell_type": "markdown",
   "metadata": {},
   "source": [
    "# Astro Algorithms: Week 1 \n",
    "## Jacob Lustig-Yaeger  "
   ]
  },
  {
   "cell_type": "code",
   "execution_count": 1,
   "metadata": {
    "collapsed": true
   },
   "outputs": [],
   "source": [
    "%matplotlib inline\n",
    "import os\n",
    "import numpy as np\n",
    "import scipy as sp\n",
    "import scipy.optimize\n",
    "import matplotlib as mpl\n",
    "import matplotlib.pyplot as plt\n",
    "from matplotlib import gridspec\n",
    "from matplotlib import rc\n",
    "from astroML.plotting import setup_text_plots\n",
    "setup_text_plots(fontsize=25, usetex=True)\n",
    "\n",
    "rc('font', **{'family': 'serif', 'serif': ['Computer Modern']})\n",
    "mpl.rcParams['font.size'] = 25.0"
   ]
  },
  {
   "cell_type": "markdown",
   "metadata": {},
   "source": [
    "# Basic Hyak Commands  \n",
    "`qsub -I -l walltime=3:00:00` : Enter interactive sessions (`-I`), with walltime 3hrs (`-l walltime=3:00:00`)    \n",
    "`module avail` : List all available modules\n"
   ]
  },
  {
   "cell_type": "markdown",
   "metadata": {},
   "source": [
    "# Example: Complex Number *Class*"
   ]
  },
  {
   "cell_type": "code",
   "execution_count": 8,
   "metadata": {
    "collapsed": true
   },
   "outputs": [],
   "source": [
    "class Complex:\n",
    "    \n",
    "    # Define a constructor\n",
    "    def __init__(self, r=0.0, i=0.0):\n",
    "        # Define \n",
    "        self.real=r\n",
    "        self.imag=i\n",
    "        \n",
    "    def conjugate(self):\n",
    "        self.imag = - self.imag\n",
    "    \n",
    "    @staticmethod    # A static method is not tied to an object (no self)\n",
    "    def add(x,y):\n",
    "        z=Complex(x.real + y.real, x.imag + y.imag)\n",
    "        return z"
   ]
  },
  {
   "cell_type": "code",
   "execution_count": 4,
   "metadata": {
    "collapsed": false
   },
   "outputs": [
    {
     "name": "stdout",
     "output_type": "stream",
     "text": [
      "4.0 6.0\n"
     ]
    }
   ],
   "source": [
    "a = Complex(1.0, 2.0)\n",
    "b = Complex(3.0, 4.0)\n",
    "\n",
    "c = Complex.add(a,b)\n",
    "\n",
    "print c.real, c.imag"
   ]
  },
  {
   "cell_type": "markdown",
   "metadata": {},
   "source": [
    "# Problem Set 1"
   ]
  },
  {
   "cell_type": "code",
   "execution_count": 24,
   "metadata": {
    "collapsed": true
   },
   "outputs": [],
   "source": [
    "class Position:\n",
    "    '''\n",
    "    Define the position components for a particle.\n",
    "    '''\n",
    "    def __init__(self, x=0.0, y=0.0, z=0.0):\n",
    "        self.x = x\n",
    "        self.y = y\n",
    "        self.z = z\n",
    "\n",
    "class Velocity:\n",
    "    '''\n",
    "    Define the velocity components for a particle.\n",
    "    '''\n",
    "    def __init__(self, vx=0.0, vy=0.0, vz=0.0):\n",
    "        self.vx = vx\n",
    "        self.vy = vy\n",
    "        self.vz = vz\n",
    "\n",
    "class Particle:\n",
    "    '''\n",
    "    Define the mass, position, and velocity for a particle \n",
    "    and compute the force between them.\n",
    "    '''\n",
    "    def __init__(self, mass=1.0, pos=Position(), vel=Velocity()):\n",
    "        self.mass = mass\n",
    "        self.pos = pos\n",
    "        self.vel = vel\n",
    "    \n",
    "    @staticmethod\n",
    "    def force(p1,p2):\n",
    "        G = 6.67e-11\n",
    "        F = G * p1.mass * p2.mass / ((p1.pos.x - p2.pos.x)**2 + (p1.pos.y-p2.pos.y)**2 + (p1.pos.z-p2.pos.z)**2)\n",
    "        return F"
   ]
  },
  {
   "cell_type": "code",
   "execution_count": 25,
   "metadata": {
    "collapsed": false
   },
   "outputs": [
    {
     "name": "stdout",
     "output_type": "stream",
     "text": [
      "1.6675e-11 N\n"
     ]
    }
   ],
   "source": [
    "# Create two particles\n",
    "p1 = Particle(1.0, Position(1,2,3), Velocity(1,2,3))\n",
    "p2 = Particle(2.0, Position(3,2,1), Velocity(3,2,1))\n",
    "\n",
    "# Calculate the force between the particles\n",
    "print Particle.force(p1,p2), 'N'"
   ]
  },
  {
   "cell_type": "code",
   "execution_count": null,
   "metadata": {
    "collapsed": true
   },
   "outputs": [],
   "source": []
  }
 ],
 "metadata": {
  "kernelspec": {
   "display_name": "Python 2",
   "language": "python",
   "name": "python2"
  },
  "language_info": {
   "codemirror_mode": {
    "name": "ipython",
    "version": 2
   },
   "file_extension": ".py",
   "mimetype": "text/x-python",
   "name": "python",
   "nbconvert_exporter": "python",
   "pygments_lexer": "ipython2",
   "version": "2.7.11"
  }
 },
 "nbformat": 4,
 "nbformat_minor": 0
}
