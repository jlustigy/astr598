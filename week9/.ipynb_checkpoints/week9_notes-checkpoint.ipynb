{
 "cells": [
  {
   "cell_type": "markdown",
   "metadata": {},
   "source": [
    "# Graphs (abstract data type) \n",
    "\n",
    "* **Vertices**\n",
    "* **Edges**  \n",
    "* **Cost** (e.g. Dollars, Time, Distance, etc)  \n",
    "\n",
    "![Example Graph](http://dab1nmslvvntp.cloudfront.net/wp-content/uploads/2013/07/dg-graphs04.png)\n",
    "\n",
    "* Examples\n",
    "    * Computer networks\n",
    "    * World Wide Web\n",
    "    * Social networks\n",
    "    * Google: PageRank\n",
    "        * Looks at web as a directory  \n",
    "        \n",
    "        \n",
    "* **Adjacency (b) List, (c) Matrix**:\n",
    "![Example Matrix](http://staff.ustc.edu.cn/~csli/graduate/algorithms/book6/466_a.gif) \n",
    "\n",
    "\n",
    "* Travel Example:\n",
    "    * Can you go from point A to point B? \n",
    "        * Adjacency matrix has ones for connections and zeros for no connections\n",
    "![Example Travel](https://i-msdn.sec.s-msft.com/dynimg/IC8697.gif)"
   ]
  },
  {
   "cell_type": "markdown",
   "metadata": {},
   "source": [
    "## Washall Algorithm  (two point connections)"
   ]
  },
  {
   "cell_type": "code",
   "execution_count": 15,
   "metadata": {
    "collapsed": false
   },
   "outputs": [],
   "source": [
    "import numpy as np\n",
    "\n",
    "n = 4\n",
    "\n",
    "c = np.zeros((n,n))\n",
    "c[0,1] = 1\n",
    "c[1,3] = 1\n",
    "c[0,2] = 1\n",
    "c[3,2] = 1\n",
    "\n",
    "a = np.copy(a)\n",
    "\n",
    "# Triple loop is woefully inefficient in python!\n",
    "for k in range(0,n):\n",
    "    for i in range(0,n):\n",
    "        for j in range(0,n):\n",
    "            if (a[i,j] == 0):\n",
    "                if (a[i,k]==1) and (a[k,j] ==1):\n",
    "                    a[i,j] = 1"
   ]
  },
  {
   "cell_type": "code",
   "execution_count": 18,
   "metadata": {
    "collapsed": false
   },
   "outputs": [
    {
     "name": "stdout",
     "output_type": "stream",
     "text": [
      "[[ 0.  1.  1.  1.]\n",
      " [ 0.  0.  1.  1.]\n",
      " [ 0.  0.  0.  0.]\n",
      " [ 0.  0.  1.  0.]]\n",
      "[[ 0.  1.  1.  0.]\n",
      " [ 0.  0.  0.  1.]\n",
      " [ 0.  0.  0.  0.]\n",
      " [ 0.  0.  1.  0.]]\n"
     ]
    }
   ],
   "source": [
    "print a\n",
    "print c"
   ]
  },
  {
   "cell_type": "markdown",
   "metadata": {},
   "source": [
    "## Floyd Algorithm (for cost minimization)\n",
    "\n",
    "**All pairs, shortest path**"
   ]
  },
  {
   "cell_type": "code",
   "execution_count": 21,
   "metadata": {
    "collapsed": true
   },
   "outputs": [],
   "source": [
    "n = 4\n",
    "\n",
    "c = np.zeros((n,n))\n",
    "c[0,1] = 1\n",
    "c[1,3] = 1\n",
    "c[0,2] = 1\n",
    "c[3,2] = 1\n",
    "\n",
    "a = np.copy(a)\n",
    "\n",
    "# Triple loop is woefully inefficient in python!\n",
    "for k in range(0,n):\n",
    "    for i in range(0,n):\n",
    "        for j in range(0,n):\n",
    "            if (a[i,k] + a[k,j] < a[i,j]):\n",
    "                a[i,j] = a[i,k] + a[k,j]"
   ]
  },
  {
   "cell_type": "code",
   "execution_count": 26,
   "metadata": {
    "collapsed": false
   },
   "outputs": [
    {
     "name": "stdout",
     "output_type": "stream",
     "text": [
      "[[ 0.  1.  1.  0.]\n",
      " [ 0.  0.  0.  1.]\n",
      " [ 0.  0.  0.  0.]\n",
      " [ 0.  0.  1.  0.]]\n",
      "[[ 0.  1.  1.  1.]\n",
      " [ 0.  0.  1.  1.]\n",
      " [ 0.  0.  0.  0.]\n",
      " [ 0.  0.  1.  0.]]\n"
     ]
    }
   ],
   "source": [
    "print c\n",
    "print a"
   ]
  },
  {
   "cell_type": "markdown",
   "metadata": {},
   "source": [
    "## Using Scipy's Graph implimentation"
   ]
  },
  {
   "cell_type": "code",
   "execution_count": 34,
   "metadata": {
    "collapsed": true
   },
   "outputs": [],
   "source": [
    "from scipy.sparse import csgraph, csr_matrix"
   ]
  },
  {
   "cell_type": "code",
   "execution_count": 36,
   "metadata": {
    "collapsed": false
   },
   "outputs": [
    {
     "name": "stdout",
     "output_type": "stream",
     "text": [
      "  (0, 1)\t2\n",
      "  (0, 2)\t1\n",
      "  (1, 0)\t2\n",
      "  (2, 0)\t1\n"
     ]
    }
   ],
   "source": [
    "G_dense = np.array([[0, 2, 1],\n",
    "                    [2, 0, 0],\n",
    "                    [1, 0, 0]])\n",
    "G_masked = np.ma.masked_values(G_dense, 0)\n",
    "G_sparse = csr_matrix(G_dense)\n",
    "print G_sparse"
   ]
  },
  {
   "cell_type": "code",
   "execution_count": 32,
   "metadata": {
    "collapsed": false
   },
   "outputs": [
    {
     "name": "stdout",
     "output_type": "stream",
     "text": [
      "[ 2.  0.  2.  0.]\n"
     ]
    }
   ],
   "source": [
    "G2_data = np.array([[np.inf, 2,      0     ],\n",
    "                    [2,      np.inf, np.inf],\n",
    "                    [0,      np.inf, np.inf]])\n",
    "G2_masked = np.ma.masked_invalid(G2_data)\n",
    "G2_sparse = csgraph.csgraph_from_dense(G2_data, null_value=np.inf)\n",
    "print G2_sparse.data"
   ]
  },
  {
   "cell_type": "code",
   "execution_count": null,
   "metadata": {
    "collapsed": true
   },
   "outputs": [],
   "source": []
  }
 ],
 "metadata": {
  "kernelspec": {
   "display_name": "Python 2",
   "language": "python",
   "name": "python2"
  },
  "language_info": {
   "codemirror_mode": {
    "name": "ipython",
    "version": 2
   },
   "file_extension": ".py",
   "mimetype": "text/x-python",
   "name": "python",
   "nbconvert_exporter": "python",
   "pygments_lexer": "ipython2",
   "version": "2.7.11"
  }
 },
 "nbformat": 4,
 "nbformat_minor": 0
}
