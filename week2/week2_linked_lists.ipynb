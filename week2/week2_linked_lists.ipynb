{
 "cells": [
  {
   "cell_type": "code",
   "execution_count": 3,
   "metadata": {
    "collapsed": true
   },
   "outputs": [],
   "source": [
    "%matplotlib inline\n",
    "import os\n",
    "import numpy as np\n",
    "import scipy as sp\n",
    "import matplotlib as mpl\n",
    "import matplotlib.pyplot as plt\n",
    "from matplotlib import gridspec\n",
    "from matplotlib import rc\n",
    "from astroML.plotting import setup_text_plots\n",
    "setup_text_plots(fontsize=25, usetex=True)\n",
    "\n",
    "rc('font', **{'family': 'serif', 'serif': ['Computer Modern']})\n",
    "mpl.rcParams['font.size'] = 25.0"
   ]
  },
  {
   "cell_type": "code",
   "execution_count": 151,
   "metadata": {
    "collapsed": true
   },
   "outputs": [],
   "source": [
    "# Create Node Class\n",
    "class Node(object):\n",
    "    \n",
    "    def __init__(self, data=None, next_node=None):\n",
    "        self.data = data\n",
    "        self.next_node = None      \n",
    "        \n",
    "    def __repr__(self):\n",
    "        return \"%s\" % (self.data)\n",
    "    \n",
    "    def __str__(self):\n",
    "        return \"%s\" % (self.data)"
   ]
  },
  {
   "cell_type": "code",
   "execution_count": 169,
   "metadata": {
    "collapsed": false
   },
   "outputs": [],
   "source": [
    "# Create LinkedList Class\n",
    "class LinkedList(object):\n",
    "    \n",
    "    def __init__(self, head=Node(), tail=Node()):\n",
    "        self.head = None\n",
    "        self.tail = None\n",
    "        \n",
    "    def __repr__(self):\n",
    "        return \"LinkedList --> head:%s, tail:%s\" % (self.head, self.tail)\n",
    "    \n",
    "    def __str__(self):\n",
    "        n = self.head\n",
    "        l = '<'\n",
    "        while n != None:\n",
    "            l = l +' '+ str(n.data)\n",
    "            n = n.next_node\n",
    "        l = l + ' >'\n",
    "        return l\n",
    "    \n",
    "    def insert_at_head(self, val):\n",
    "        n = Node(val, None)\n",
    "        # If No nodes\n",
    "        if (self.head == None and self.tail == None):\n",
    "            self.head = n\n",
    "            self.tail = self.head\n",
    "        # Else Many nodes\n",
    "        else:\n",
    "            n.next_node = self.head\n",
    "            self.head = n\n",
    "    \n",
    "    def delete_at_head(self):\n",
    "        # If No Nodes\n",
    "        if (self.head == None):\n",
    "            return None\n",
    "        # If Many Nodes\n",
    "        else:\n",
    "            val = self.head.data\n",
    "            self.head = self.head.next_node\n",
    "            if (self.head == self.tail):\n",
    "                self.tail = self.head\n",
    "            return val\n",
    "    \n",
    "    def insert_at_tail(self, val):\n",
    "        # Create new Node\n",
    "        n = Node(val, None)\n",
    "        # If No Nodes\n",
    "        if (self.head == None):\n",
    "            self.head = n\n",
    "            self.tail = n\n",
    "        else:\n",
    "            self.tail.next_node = n\n",
    "            self.tail = n\n",
    "            # If One Node (redundant in python)\n",
    "            if (self.head == self.tail):\n",
    "                self.head.next_node = n"
   ]
  },
  {
   "cell_type": "code",
   "execution_count": 170,
   "metadata": {
    "collapsed": false
   },
   "outputs": [],
   "source": [
    "L = LinkedList()"
   ]
  },
  {
   "cell_type": "code",
   "execution_count": 171,
   "metadata": {
    "collapsed": false
   },
   "outputs": [
    {
     "name": "stdout",
     "output_type": "stream",
     "text": [
      "< >\n"
     ]
    }
   ],
   "source": [
    "print L"
   ]
  },
  {
   "cell_type": "code",
   "execution_count": 174,
   "metadata": {
    "collapsed": false
   },
   "outputs": [
    {
     "name": "stdout",
     "output_type": "stream",
     "text": [
      "< >\n",
      "< -3 -2 -1 >\n",
      "< -2 -1 >\n",
      "< -2 -1 0 1 2 >\n"
     ]
    }
   ],
   "source": [
    "L = LinkedList()\n",
    "print L\n",
    "L.insert_at_head(-1)\n",
    "L.insert_at_head(-2)\n",
    "L.insert_at_head(-3)\n",
    "print L\n",
    "L.delete_at_head()\n",
    "print L\n",
    "L.insert_at_tail(0)\n",
    "L.insert_at_tail(1)\n",
    "L.insert_at_tail(2)\n",
    "print L"
   ]
  },
  {
   "cell_type": "code",
   "execution_count": 173,
   "metadata": {
    "collapsed": false
   },
   "outputs": [
    {
     "name": "stdout",
     "output_type": "stream",
     "text": [
      "< >\n",
      "< -2 -1 0 >\n",
      "< -1 0 >\n",
      "< -1 0 3 4 5 >\n"
     ]
    },
    {
     "data": {
      "text/plain": [
       "LinkedList --> head:-1, tail:5"
      ]
     },
     "execution_count": 173,
     "metadata": {},
     "output_type": "execute_result"
    }
   ],
   "source": [
    "LL = LinkedList()\n",
    "print LL\n",
    "LL.insert_at_head(0)\n",
    "LL.insert_at_head(-1)\n",
    "LL.insert_at_head(-2)\n",
    "print LL\n",
    "LL.delete_at_head()\n",
    "print LL\n",
    "LL.insert_at_tail(3)\n",
    "LL.insert_at_tail(4)\n",
    "LL.insert_at_tail(5)\n",
    "print LL\n",
    "LL"
   ]
  },
  {
   "cell_type": "code",
   "execution_count": null,
   "metadata": {
    "collapsed": true
   },
   "outputs": [],
   "source": []
  },
  {
   "cell_type": "code",
   "execution_count": null,
   "metadata": {
    "collapsed": true
   },
   "outputs": [],
   "source": []
  }
 ],
 "metadata": {
  "kernelspec": {
   "display_name": "Python 2",
   "language": "python",
   "name": "python2"
  },
  "language_info": {
   "codemirror_mode": {
    "name": "ipython",
    "version": 2
   },
   "file_extension": ".py",
   "mimetype": "text/x-python",
   "name": "python",
   "nbconvert_exporter": "python",
   "pygments_lexer": "ipython2",
   "version": "2.7.11"
  }
 },
 "nbformat": 4,
 "nbformat_minor": 0
}
