{
 "cells": [
  {
   "cell_type": "markdown",
   "metadata": {},
   "source": [
    "# Abstract Data Types"
   ]
  },
  {
   "cell_type": "code",
   "execution_count": 3,
   "metadata": {
    "collapsed": true
   },
   "outputs": [],
   "source": [
    "%matplotlib inline\n",
    "import os\n",
    "import numpy as np\n",
    "import scipy as sp\n",
    "import scipy.optimize\n",
    "import matplotlib as mpl\n",
    "import matplotlib.pyplot as plt\n",
    "from matplotlib import gridspec\n",
    "from matplotlib import rc\n",
    "from astroML.plotting import setup_text_plots\n",
    "setup_text_plots(fontsize=25, usetex=True)\n",
    "\n",
    "rc('font', **{'family': 'serif', 'serif': ['Computer Modern']})\n",
    "mpl.rcParams['font.size'] = 25.0"
   ]
  },
  {
   "cell_type": "markdown",
   "metadata": {},
   "source": [
    "# Stacks"
   ]
  },
  {
   "cell_type": "code",
   "execution_count": 4,
   "metadata": {
    "collapsed": true
   },
   "outputs": [],
   "source": [
    "class Node(object):\n",
    "    def __init__(self, data=None, nxt=None):\n",
    "        self.data = data\n",
    "        self.nxt = None\n",
    "    \n",
    "    def __repr__(self):\n",
    "        return \"%s\" % (self.data)\n",
    "    \n",
    "    def __str__(self):\n",
    "        return \"%s\" % (self.data)\n",
    "\n",
    "class Stack(object):\n",
    "    \n",
    "    def __init__(self, head = None, N = 0):\n",
    "        self.head = head\n",
    "        self.N = N\n",
    "    \n",
    "    # Same as insert_at_head!\n",
    "    def push(self, i=None):\n",
    "        n = Node(data=i,nxt=None)\n",
    "        n.nxt = self.head\n",
    "        self.head = n\n",
    "        self.N += 1\n",
    "    \n",
    "    def pop(self):\n",
    "        # If stack is empty\n",
    "        if (self.head == None):\n",
    "            print \"Error in pop: Tried to pop empty stack\"\n",
    "            return None\n",
    "        # Otherwise pop away!\n",
    "        else:\n",
    "            # get value of data at head\n",
    "            i = self.head.data\n",
    "            # set head to next\n",
    "            self.head = self.head.nxt\n",
    "            # decrement N\n",
    "            self.N -= 1\n",
    "        return i\n",
    "    \n",
    "    def top(self):\n",
    "        if (self.head == None):\n",
    "            print \"Error in top: No data in top\"\n",
    "            return None\n",
    "        else:\n",
    "            i = self.head.data\n",
    "        return i\n",
    "    \n",
    "    def size(self):\n",
    "        return self.N\n",
    "    \n",
    "    def isEmpty(self):\n",
    "        if (self.head == None):\n",
    "            return True\n",
    "        else:\n",
    "            return False\n",
    "    \n",
    "    def __repr__(self):\n",
    "        return \"Stack --> head:%s, size:%s\" % (self.head, self.N)\n",
    "    \n",
    "    def __str__(self):\n",
    "        n = self.head\n",
    "        l = '<'\n",
    "        while n != None:\n",
    "            l = l +' '+ str(n.data)\n",
    "            n = n.nxt\n",
    "        l = l + ' >'\n",
    "        return l\n",
    "        "
   ]
  },
  {
   "cell_type": "code",
   "execution_count": 5,
   "metadata": {
    "collapsed": false
   },
   "outputs": [
    {
     "name": "stdout",
     "output_type": "stream",
     "text": [
      "< >\n",
      "Is empty?  True\n",
      "Error in top: No data in top\n"
     ]
    }
   ],
   "source": [
    "S = Stack()\n",
    "print S\n",
    "S.N\n",
    "print \"Is empty? \",S.isEmpty()\n",
    "S.top()"
   ]
  },
  {
   "cell_type": "code",
   "execution_count": 8,
   "metadata": {
    "collapsed": false
   },
   "outputs": [
    {
     "name": "stdout",
     "output_type": "stream",
     "text": [
      "< 24 >\n",
      "< 83 24 >\n",
      "< 12 83 24 >\n",
      "< 68 12 83 24 >\n",
      "< 39 68 12 83 24 >\n",
      "< 37 39 68 12 83 24 >\n",
      "< 88 37 39 68 12 83 24 >\n",
      "< 37 88 37 39 68 12 83 24 >\n",
      "< 55 37 88 37 39 68 12 83 24 >\n",
      "< 90 55 37 88 37 39 68 12 83 24 >\n",
      "size:  10\n"
     ]
    }
   ],
   "source": [
    "for i in range(10):\n",
    "    S.push(np.random.randint(100))\n",
    "    print S\n",
    "print \"size: \",S.N"
   ]
  },
  {
   "cell_type": "code",
   "execution_count": 9,
   "metadata": {
    "collapsed": false
   },
   "outputs": [
    {
     "name": "stdout",
     "output_type": "stream",
     "text": [
      "90\n",
      "55\n",
      "37\n",
      "88\n",
      "37\n",
      "39\n",
      "68\n",
      "12\n",
      "83\n",
      "24\n"
     ]
    }
   ],
   "source": [
    "for i in range(10):\n",
    "    a = S.pop()\n",
    "    print a"
   ]
  },
  {
   "cell_type": "code",
   "execution_count": 62,
   "metadata": {
    "collapsed": false
   },
   "outputs": [
    {
     "name": "stdout",
     "output_type": "stream",
     "text": [
      "False\n",
      "8\n"
     ]
    }
   ],
   "source": [
    "print S.isEmpty()\n",
    "print S.top()"
   ]
  },
  {
   "cell_type": "markdown",
   "metadata": {},
   "source": [
    "# Queues"
   ]
  },
  {
   "cell_type": "code",
   "execution_count": 63,
   "metadata": {
    "collapsed": true
   },
   "outputs": [],
   "source": [
    "class Node(object):\n",
    "    def __init__(self, data=None, nxt=None):\n",
    "        self.data = data\n",
    "        self.nxt = None\n",
    "    \n",
    "    def __repr__(self):\n",
    "        return \"%s\" % (self.data)\n",
    "    \n",
    "    def __str__(self):\n",
    "        return \"%s\" % (self.data)\n",
    "\n",
    "class Queue(object):\n",
    "    def __init__(self, head = None, tail = None, N = 0):\n",
    "        self.head = None\n",
    "        self.tail = None\n",
    "        self.N = 0\n",
    "    \n",
    "    def put(self, i):\n",
    "        # Create new Node\n",
    "        n = Node()\n",
    "        # Set n's data and next\n",
    "        n.data = i\n",
    "        n.nxt = None\n",
    "        # Empty Queue\n",
    "        if (self.head == None):\n",
    "            self.head = n\n",
    "            self.tail = n\n",
    "        # One element in Queue\n",
    "        elif (self.head == self.tail):\n",
    "            self.head.nxt = n\n",
    "            self.tail = n\n",
    "        # Many elements in Queue\n",
    "        else:\n",
    "            self.tail.nxt = n\n",
    "            self.tail = n\n",
    "        # Increment size, N\n",
    "        self.N += 1\n",
    "    \n",
    "    def get(self):\n",
    "        # Empty Queue \n",
    "        if (self.head == None):\n",
    "            print \"Error in get: Empty Queue\"\n",
    "            return None\n",
    "        # Get data at head\n",
    "        i = self.head.data\n",
    "        # Set head to next\n",
    "        self.head = self.head.nxt\n",
    "        # Decrement size\n",
    "        self.N -= 1\n",
    "        # Return i\n",
    "        return i\n",
    "    \n",
    "    def front(self):\n",
    "        if (self.head == None):\n",
    "            print \"Error in front: No data in Queue\"\n",
    "            return None\n",
    "        else:\n",
    "            i = self.head.data\n",
    "        return i"
   ]
  },
  {
   "cell_type": "code",
   "execution_count": null,
   "metadata": {
    "collapsed": true
   },
   "outputs": [],
   "source": []
  }
 ],
 "metadata": {
  "kernelspec": {
   "display_name": "Python 2",
   "language": "python",
   "name": "python2"
  },
  "language_info": {
   "codemirror_mode": {
    "name": "ipython",
    "version": 2
   },
   "file_extension": ".py",
   "mimetype": "text/x-python",
   "name": "python",
   "nbconvert_exporter": "python",
   "pygments_lexer": "ipython2",
   "version": "2.7.11"
  }
 },
 "nbformat": 4,
 "nbformat_minor": 0
}
