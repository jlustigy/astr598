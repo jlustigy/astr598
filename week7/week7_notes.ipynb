{
 "cells": [
  {
   "cell_type": "markdown",
   "metadata": {},
   "source": [
    "Fundamental themes in computer science:\n",
    "* Stacks\n",
    "* Recursion\n",
    "* Divide & Conquer\n",
    "\n",
    "# Binary Search Tree  \n",
    "* Every node in the left subtree is less than the parent and every node in the right subtree is greater than the parent:  \n",
    "\n",
    "                                10   <--- root (node)\n",
    "                              /    \\\n",
    "                             /      \\\n",
    "                            5        14    <--- leaf (node)\n",
    "                          /  \\      /  \\\n",
    "                         1    7    12   18\n",
    "                                       /  \\\n",
    "                                      15   20\n",
    "                                      \n",
    "* `insert():` start at root, go down left or right depending on comparison between children.\n",
    "* `traverse():` pre-order, in-order, post-order\n",
    "* If everything is already ordered then tree will be lopsided:\n",
    "                                \n",
    "                                1\n",
    "                                 \\\n",
    "                                  2 \n",
    "                                   \\\n",
    "                                    3\n",
    "                                     \\\n",
    "                                      4\n",
    "* But if in random order then tree will be approximately balanced\n",
    "\n",
    "### First define `Node()` class"
   ]
  },
  {
   "cell_type": "code",
   "execution_count": 1,
   "metadata": {
    "collapsed": true
   },
   "outputs": [],
   "source": [
    "class Node(object):\n",
    "    def __init__(self, data=None, left=None, right=None):\n",
    "        self.data = data  # Key\n",
    "        self.left = left\n",
    "        self.right = right"
   ]
  },
  {
   "cell_type": "markdown",
   "metadata": {},
   "source": [
    "### Now we'll define the Binary Search Tree"
   ]
  },
  {
   "cell_type": "code",
   "execution_count": 54,
   "metadata": {
    "collapsed": true
   },
   "outputs": [],
   "source": [
    "# Use Binary recursion to insert according to left/right rules\n",
    "def local_insert(local_root, n):\n",
    "        \n",
    "    # If tree is empty throw error\n",
    "    if (local_root == None):\n",
    "        print(\"Error in local_insert(): local_root == None\")\n",
    "        return\n",
    "        \n",
    "    # If new node is less than local root, insert at left leaf\n",
    "    if (n.data < local_root.data):\n",
    "        \n",
    "        # If left child is None, then insert new node there. End condition.\n",
    "        if (local_root.left == None):\n",
    "            local_root.left = n\n",
    "        # Otherwise, recursively call local_insert\n",
    "        else:\n",
    "            local_insert(local_root.left, n)\n",
    "        \n",
    "    # Otherwise, new node is greater than local root, so insert at right leaf\n",
    "    else:\n",
    "    \n",
    "        # If right child is None, then insert new node there. End condition.\n",
    "        if (local_root.right == None):\n",
    "            local_root.right = n\n",
    "        # Otherwise, recursively call local_insert\n",
    "        else:\n",
    "            local_insert(local_root.right, n)\n",
    "\n",
    "def local_find(local_root, i):\n",
    "    # If local_root is None, then i isn't in tree\n",
    "    if (local_root == None):\n",
    "        return False\n",
    "    # If local_root contains i, then i is in tree\n",
    "    elif (local_root.data == i):\n",
    "        return True\n",
    "    # If i is less than local_root, then recursively enter left leaf\n",
    "    elif (i < local_root.data):\n",
    "        return local_find(local_root.left, i)\n",
    "    # If i is greater than local_root, then recursively enter right leaf\n",
    "    else:\n",
    "        return local_find(local_root.right, i)\n",
    "\n",
    "def local_traverse_pre_order(local_root):\n",
    "    # First process parent\n",
    "    if (local_root == None):\n",
    "        return\n",
    "    else:\n",
    "        # Print out local root value\n",
    "        print local_root.data\n",
    "        # Process left subtree\n",
    "        traverse_pre_order(local_root.left)\n",
    "        # Process right subtress\n",
    "        traverse_pre_order(local_root.right)\n",
    "\n",
    "def local_traverse_in_order(local_root):\n",
    "    # First process parent\n",
    "    if (local_root == None):\n",
    "        return\n",
    "    else:\n",
    "        # Process left subtree\n",
    "        traverse_in_order(local_root.left)\n",
    "        # Print out local root value\n",
    "        print local_root.data\n",
    "        # Process right subtress\n",
    "        traverse_in_order(local_root.right)\n",
    "\n",
    "def local_traverse_post_order(local_root):\n",
    "    # First process parent\n",
    "    if (local_root == None):\n",
    "        return\n",
    "    else:\n",
    "        # Process left subtree\n",
    "        traverse_post_order(local_root.left)\n",
    "        # Process right subtress\n",
    "        traverse_post_order(local_root.right) \n",
    "        # Print out local root value\n",
    "        print local_root.data\n"
   ]
  },
  {
   "cell_type": "code",
   "execution_count": 71,
   "metadata": {
    "collapsed": true
   },
   "outputs": [],
   "source": [
    "class BinarySearchTree(object):\n",
    "    def __init__(self,N=0,root=None):\n",
    "        self.N = N\n",
    "        self.root = root\n",
    "        \n",
    "    def insert(self, i):\n",
    "        \n",
    "        # Create new node\n",
    "        n = Node(data=i, left=None, right=None)\n",
    "        \n",
    "        # Increment N\n",
    "        self.N += 1\n",
    "        \n",
    "        # If tree is empty\n",
    "        if (self.root == None):\n",
    "            self.root = n\n",
    "        # Otherwise\n",
    "        else:\n",
    "            local_insert(self.root,n)\n",
    "    \n",
    "    def find(self, i):\n",
    "        return local_find(self.root,i)\n",
    "    \n",
    "    def traverse_pre_order(self):\n",
    "        local_traverse_pre_order(self.root)\n",
    "            \n",
    "    def traverse_in_order(self):\n",
    "        local_traverse_in_order(self.root) \n",
    "            \n",
    "    def traverse_post_order(self):\n",
    "        local_traverse_post_order(self.root)\n",
    "            \n",
    "    def size(self):\n",
    "        return self.N\n",
    "    \n",
    "    def minimum(self):\n",
    "        if (self.root == None):\n",
    "            print \"Error in minimum: root == None\"\n",
    "            return None\n",
    "        else:\n",
    "            local_root = self.root\n",
    "            i = local_root.data\n",
    "        \n",
    "        while (local_root != None):\n",
    "            i = local_root.data\n",
    "            local_root = local_root.left\n",
    "        \n",
    "        return i\n",
    "    \n",
    "    def maximum(self):\n",
    "        if (self.root == None):\n",
    "            print \"Error in minimum: root == None\"\n",
    "            return None\n",
    "        else:\n",
    "            local_root = self.root\n",
    "            i = local_root.data\n",
    "        \n",
    "        while (local_root != None):\n",
    "            i = local_root.data\n",
    "            local_root = local_root.right\n",
    "        \n",
    "        return i\n",
    "        \n",
    "    def isEmpty(self):\n",
    "        if (self.N == 0):\n",
    "            return True \n",
    "        else:\n",
    "            return False"
   ]
  },
  {
   "cell_type": "code",
   "execution_count": 72,
   "metadata": {
    "collapsed": true
   },
   "outputs": [],
   "source": [
    "import numpy as np"
   ]
  },
  {
   "cell_type": "code",
   "execution_count": 73,
   "metadata": {
    "collapsed": true
   },
   "outputs": [],
   "source": [
    "B = BinarySearchTree()"
   ]
  },
  {
   "cell_type": "code",
   "execution_count": 74,
   "metadata": {
    "collapsed": false
   },
   "outputs": [],
   "source": [
    "for i in range(20):\n",
    "    B.insert(np.random.randint(100))"
   ]
  },
  {
   "cell_type": "code",
   "execution_count": 75,
   "metadata": {
    "collapsed": false
   },
   "outputs": [
    {
     "name": "stdout",
     "output_type": "stream",
     "text": [
      "4\n",
      "6\n",
      "8\n",
      "21\n",
      "22\n",
      "22\n",
      "36\n",
      "37\n",
      "39\n",
      "41\n",
      "44\n",
      "46\n",
      "47\n",
      "47\n",
      "48\n",
      "51\n",
      "71\n",
      "79\n",
      "83\n",
      "86\n"
     ]
    }
   ],
   "source": [
    "B.traverse_in_order()"
   ]
  },
  {
   "cell_type": "code",
   "execution_count": 76,
   "metadata": {
    "collapsed": false
   },
   "outputs": [
    {
     "data": {
      "text/plain": [
       "False"
      ]
     },
     "execution_count": 76,
     "metadata": {},
     "output_type": "execute_result"
    }
   ],
   "source": [
    "B.find(96)"
   ]
  },
  {
   "cell_type": "code",
   "execution_count": 77,
   "metadata": {
    "collapsed": false
   },
   "outputs": [
    {
     "data": {
      "text/plain": [
       "20"
      ]
     },
     "execution_count": 77,
     "metadata": {},
     "output_type": "execute_result"
    }
   ],
   "source": [
    "B.size()"
   ]
  },
  {
   "cell_type": "code",
   "execution_count": 78,
   "metadata": {
    "collapsed": false
   },
   "outputs": [
    {
     "data": {
      "text/plain": [
       "False"
      ]
     },
     "execution_count": 78,
     "metadata": {},
     "output_type": "execute_result"
    }
   ],
   "source": [
    "B.isEmpty()"
   ]
  },
  {
   "cell_type": "code",
   "execution_count": 79,
   "metadata": {
    "collapsed": false
   },
   "outputs": [
    {
     "data": {
      "text/plain": [
       "4"
      ]
     },
     "execution_count": 79,
     "metadata": {},
     "output_type": "execute_result"
    }
   ],
   "source": [
    "B.minimum()"
   ]
  },
  {
   "cell_type": "code",
   "execution_count": 80,
   "metadata": {
    "collapsed": false
   },
   "outputs": [
    {
     "data": {
      "text/plain": [
       "86"
      ]
     },
     "execution_count": 80,
     "metadata": {},
     "output_type": "execute_result"
    }
   ],
   "source": [
    "B.maximum()"
   ]
  },
  {
   "cell_type": "code",
   "execution_count": null,
   "metadata": {
    "collapsed": true
   },
   "outputs": [],
   "source": []
  }
 ],
 "metadata": {
  "kernelspec": {
   "display_name": "Python 2",
   "language": "python",
   "name": "python2"
  },
  "language_info": {
   "codemirror_mode": {
    "name": "ipython",
    "version": 2
   },
   "file_extension": ".py",
   "mimetype": "text/x-python",
   "name": "python",
   "nbconvert_exporter": "python",
   "pygments_lexer": "ipython2",
   "version": "2.7.11"
  }
 },
 "nbformat": 4,
 "nbformat_minor": 0
}
